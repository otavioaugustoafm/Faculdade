{
 "cells": [
  {
   "cell_type": "code",
   "execution_count": null,
   "id": "005a5937",
   "metadata": {
    "vscode": {
     "languageId": "plaintext"
    }
   },
   "outputs": [],
   "source": [
    "import pandas as pd\n",
    "import numpy as np\n",
    "from sklearn.tree import DecisionTreeClassifier\n",
    "import shap\n",
    "import matplotlib.pyplot as plt\n",
    "\n",
    "# Comando \"mágico\" para exibir gráficos do Matplotlib inline\n",
    "%matplotlib inline\n",
    "\n",
    "# ESSENCIAL: Carrega o Javascript do SHAP no notebook\n",
    "# Isso fará o force_plot (o .html) funcionar\n",
    "shap.initjs()"
   ]
  },
  {
   "cell_type": "code",
   "execution_count": null,
   "id": "0888ddf6",
   "metadata": {
    "vscode": {
     "languageId": "plaintext"
    }
   },
   "outputs": [],
   "source": [
    "# ============================\n",
    "# 1. Gerar dados simulados\n",
    "# ============================\n",
    "rng = np.random.default_rng(42)\n",
    "n = 200\n",
    "renda = rng.integers(1000, 10000, n)\n",
    "historico = rng.integers(0, 10, n)\n",
    "idade = rng.integers(18, 70, n)\n",
    "\n",
    "# Regra simulada: renda e histórico altos → aprovado\n",
    "aprovado = ((renda > 5000) & (historico > 5)).astype(int)\n",
    "\n",
    "df = pd.DataFrame({\n",
    "    \"renda\": renda,\n",
    "    \"historico\": historico,\n",
    "    \"idade\": idade,\n",
    "    \"aprovado\": aprovado\n",
    "})\n",
    "\n",
    "# ============================\n",
    "# 2. Treinar o modelo\n",
    "# ============================\n",
    "X = df[[\"renda\", \"historico\", \"idade\"]]\n",
    "y = df[\"aprovado\"]\n",
    "\n",
    "modelo = DecisionTreeClassifier(max_depth=3, random_state=42)\n",
    "modelo.fit(X, y)"
   ]
  },
  {
   "cell_type": "code",
   "execution_count": null,
   "id": "0be4b856",
   "metadata": {
    "vscode": {
     "languageId": "plaintext"
    }
   },
   "outputs": [],
   "source": [
    "# ============================\n",
    "# 3. Explicabilidade com SHAP\n",
    "# ============================\n",
    "explainer = shap.Explainer(modelo, X)\n",
    "shap_values = explainer(X)\n",
    "\n",
    "print(\"Cálculo do SHAP concluído.\")"
   ]
  },
  {
   "cell_type": "code",
   "execution_count": null,
   "id": "4d52606f",
   "metadata": {
    "vscode": {
     "languageId": "plaintext"
    }
   },
   "outputs": [],
   "source": [
    "# --- Importância global (summary plot) para APROVADO\n",
    "print(\"Importância Global - Classe 1 (Aprovado)\")\n",
    "\n",
    "# O gráfico será exibido automaticamente abaixo desta célula\n",
    "shap.summary_plot(shap_values[..., 1], X)"
   ]
  },
  {
   "cell_type": "code",
   "execution_count": null,
   "id": "cd089b23",
   "metadata": {
    "vscode": {
     "languageId": "plaintext"
    }
   },
   "outputs": [],
   "source": [
    "# --- Importância global (summary plot) para REPROVADO\n",
    "print(\"Importância Global - Classe 0 (Reprovado)\")\n",
    "\n",
    "shap.summary_plot(shap_values[..., 0], X)"
   ]
  },
  {
   "cell_type": "code",
   "execution_count": null,
   "id": "59c78850",
   "metadata": {
    "vscode": {
     "languageId": "plaintext"
    }
   },
   "outputs": [],
   "source": [
    "# --- Explicação local (force plot)\n",
    "\n",
    "sample_idx = 0\n",
    "output_idx = 0 # Classe 0 (Reprovado)\n",
    "\n",
    "# Usamos a mesma lógica do seu script para criar o gráfico\n",
    "force_plot = shap.force_plot(\n",
    "    float(explainer.expected_value[output_idx]),\n",
    "    shap_values.values[sample_idx, :, output_idx],\n",
    "    X.iloc[sample_idx, :]\n",
    ")\n",
    "\n",
    "# Ao colocar a variável como a última linha da célula,\n",
    "# o Jupyter irá renderizá-la automaticamente (graças ao shap.initjs() da Célula 1)\n",
    "force_plot"
   ]
  }
 ],
 "metadata": {
  "language_info": {
   "name": "python"
  }
 },
 "nbformat": 4,
 "nbformat_minor": 5
}
